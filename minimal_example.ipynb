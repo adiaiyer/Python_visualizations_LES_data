{
 "cells": [
  {
   "cell_type": "code",
   "execution_count": 1,
   "metadata": {},
   "outputs": [],
   "source": [
    "#!pip install k3d\n",
    "import time\n",
    "import k3d\n",
    "import numpy as np\n",
    "from numpy import sin,cos,pi\n",
    "from scipy.io import FortranFile\n",
    "from ipywidgets import interact, interactive, fixed\n",
    "import ipywidgets as widgets\n",
    "import math\n",
    "import os\n",
    "from os.path import isfile, join\n",
    "import gc\n",
    "from scipy.interpolate import RegularGridInterpolator\n",
    "%matplotlib inline"
   ]
  },
  {
   "cell_type": "code",
   "execution_count": 2,
   "metadata": {},
   "outputs": [],
   "source": [
    "pathIn = './Old/Pcon_1_55000.out'\n",
    "nx = 288\n",
    "ny = 288\n",
    "nz_tot = 385\n",
    "xmin, xmax = 0, 1\n",
    "ymin, ymax = 0, 1\n",
    "zmin, zmax = 0, 2.5\n",
    "f20 = FortranFile(pathIn, 'r')\n",
    "farray20 = f20.read_reals().reshape((nx,ny,nz_tot), order='F')\n",
    "#farray = np.where(farray20<=0,1,farray20)\n",
    "a = 60\n",
    "at = np.zeros((nz_tot,ny,nx))\n",
    "for nn in range(ny):\n",
    "    at[:,nn,:] = (np.flip(np.transpose(farray20[:,nn,:]), axis =0))\n",
    "    "
   ]
  },
  {
   "cell_type": "code",
   "execution_count": 3,
   "metadata": {},
   "outputs": [
    {
     "name": "stderr",
     "output_type": "stream",
     "text": [
      "/home/aditya/anaconda3/lib/python3.7/site-packages/traittypes/traittypes.py:101: UserWarning: Given trait value dtype \"float64\" does not match required type \"float32\". A coerced copy has been created.\n",
      "  np.dtype(self.dtype).name))\n"
     ]
    },
    {
     "data": {
      "application/vnd.jupyter.widget-view+json": {
       "model_id": "32588cd4a9484a7a8d18dadb46f0a45b",
       "version_major": 2,
       "version_minor": 0
      },
      "text/plain": [
       "Output()"
      ]
     },
     "metadata": {},
     "output_type": "display_data"
    }
   ],
   "source": [
    "neww = np.load('point_plot.npy')\n",
    "plot = k3d.plot()\n",
    "points = k3d.points(neww, point_size = 0.003, shader = '3dSpecular', color = 000000)\n",
    "microns_20 = k3d.volume(at, color_range=[0,np.max(farray20)],color_map=np.array(k3d.basic_color_maps.Jet,dtype=np.float32), \n",
    "                                bounds=[xmin,xmax,ymin,ymax,zmin,zmax],name='14 micron droplet',alpha_coef=a)\n",
    "#microns_1000 = k3d.volume(dots, color_range=[0,np.max(dots)], color_map=np.array(k3d.basic_color_maps.Jet,dtype=np.float32), \n",
    "                               #bounds=[xmin,xmax,ymin,ymax,zmin,zmax],name='1000 micron droplet',alpha_coef=a)\n",
    "#color_map=np.array(k3d.basic_color_maps.Jet,dtype=np.float32)\n",
    "plot += points\n",
    "#plot += microns_1000\n",
    "plot += microns_20\n",
    "plot.display()"
   ]
  },
  {
   "cell_type": "code",
   "execution_count": null,
   "metadata": {},
   "outputs": [],
   "source": []
  }
 ],
 "metadata": {
  "kernelspec": {
   "display_name": "Python 3",
   "language": "python",
   "name": "python3"
  },
  "language_info": {
   "codemirror_mode": {
    "name": "ipython",
    "version": 3
   },
   "file_extension": ".py",
   "mimetype": "text/x-python",
   "name": "python",
   "nbconvert_exporter": "python",
   "pygments_lexer": "ipython3",
   "version": "3.7.3"
  }
 },
 "nbformat": 4,
 "nbformat_minor": 2
}
